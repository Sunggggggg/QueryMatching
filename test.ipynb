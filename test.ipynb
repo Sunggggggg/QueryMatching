{
 "cells": [
  {
   "cell_type": "code",
   "execution_count": 9,
   "metadata": {},
   "outputs": [],
   "source": [
    "import torch\n",
    "import numpy as np\n",
    "import matplotlib.pyplot as plt"
   ]
  },
  {
   "cell_type": "code",
   "execution_count": 6,
   "metadata": {},
   "outputs": [],
   "source": [
    "import torch\n",
    "import torch.nn as nn\n",
    "import numpy as np\n",
    "\n",
    "feature_size = 16\n",
    "\n",
    "def softmax_with_temperature(x, beta, d = 1):\n",
    "    r'''SFNet: Learning Object-aware Semantic Flow (Lee et al.)'''\n",
    "    M, _ = x.max(dim=d, keepdim=True)\n",
    "    x = x - M # subtract maximum value for stability\n",
    "    exp_x = torch.exp(x/beta)\n",
    "    exp_x_sum = exp_x.sum(dim=d, keepdim=True)\n",
    "    return exp_x / exp_x_sum\n",
    "\n",
    "def soft_argmax(corr, beta=0.02):\n",
    "    r'''SFNet: Learning Object-aware Semantic Flow (Lee et al.)\n",
    "    corr : [B, l, hsws, htwt]\n",
    "    '''\n",
    "    b,_,h,w = corr.size()\n",
    "    x_normal = np.linspace(-1,1,feature_size)\n",
    "    x_normal = nn.Parameter(torch.tensor(x_normal, dtype=torch.float, requires_grad=False))\n",
    "    y_normal = np.linspace(-1,1,feature_size)\n",
    "    y_normal = nn.Parameter(torch.tensor(y_normal, dtype=torch.float, requires_grad=False))\n",
    "    \n",
    "    corr = softmax_with_temperature(corr, beta=beta, d=1)\n",
    "    corr = corr.view(-1,h,w,h,w) # (target hxw) x (source hxw)\n",
    "\n",
    "    grid_x = corr.sum(dim=1, keepdim=False) # marginalize to x-coord. [B, ws, ht, wt]\n",
    "    x_normal = x_normal.expand(b,w)\n",
    "    x_normal = x_normal.view(b,w,1,1)\n",
    "    grid_x = (grid_x*x_normal).sum(dim=1, keepdim=True) # b x 1 x h x w\n",
    "    \n",
    "    grid_y = corr.sum(dim=2, keepdim=False) # marginalize to y-coord.\n",
    "    y_normal = y_normal.expand(b,h)\n",
    "    y_normal = y_normal.view(b,h,1,1)\n",
    "    grid_y = (grid_y*y_normal).sum(dim=1, keepdim=True) # b x 1 x h x w\n",
    "\n",
    "x = torch.rand((4, 256, feature_size, feature_size))\n",
    "\n",
    "soft_argmax(x)"
   ]
  },
  {
   "cell_type": "code",
   "execution_count": 17,
   "metadata": {},
   "outputs": [
    {
     "data": {
      "text/plain": [
       "(array([ 41,  33, 227,  34,  99,  61, 242,  93, 225,  50, 124,   6,  71,\n",
       "         71, 202,   5, 171, 238, 209,  13,  76, 120,  79, 146, 143, 234,\n",
       "         69, 253, 144,  11, 231,   5], dtype=int64),\n",
       " array([ 2,  2, 14,  2,  6,  3, 15,  5, 14,  3,  7,  0,  4,  4, 12,  0, 10,\n",
       "        14, 13,  0,  4,  7,  4,  9,  8, 14,  4, 15,  9,  0, 14,  0],\n",
       "       dtype=int64),\n",
       " array([ 9,  1,  3,  2,  3, 13,  2, 13,  1,  2, 12,  6,  7,  7, 10,  5, 11,\n",
       "        14,  1, 13, 12,  8, 15,  2, 15, 10,  5, 13,  0, 11,  7,  5],\n",
       "       dtype=int64))"
      ]
     },
     "execution_count": 17,
     "metadata": {},
     "output_type": "execute_result"
    }
   ],
   "source": [
    "x = np.random.rand(32, 16, 16)\n",
    "x = x.reshape(32, -1)\n",
    "max_idx = np.argmax(x, axis=-1)\n",
    "max_idx, max_idx//16, max_idx%16"
   ]
  },
  {
   "cell_type": "code",
   "execution_count": 23,
   "metadata": {},
   "outputs": [
    {
     "name": "stdout",
     "output_type": "stream",
     "text": [
      "0.9990950805708391 0.9990950805708391\n"
     ]
    },
    {
     "data": {
      "image/png": "[encoded data removed]",
      "text/plain": [
       "<Figure size 640x480 with 1 Axes>"
      ]
     },
     "metadata": {},
     "output_type": "display_data"
    }
   ],
   "source": [
    "for i in range(16) :\n",
    "    _x = x[i]\n",
    "    _x = _x.reshape(16, 16)\n",
    "    z_x = np.zeros_like(_x)\n",
    "    r, c = max_idx[i]//16, max_idx[i]%16\n",
    "    z_x[r, c] = 1.\n",
    "    print(_x[r, c], _x.max())\n",
    "\n",
    "    plt.imshow(_x)\n",
    "    plt.show()\n",
    "\n",
    "    break \n",
    "\n"
   ]
  }
 ],
 "metadata": {
  "kernelspec": {
   "display_name": "Python 3",
   "language": "python",
   "name": "python3"
  },
  "language_info": {
   "codemirror_mode": {
    "name": "ipython",
    "version": 3
   },
   "file_extension": ".py",
   "mimetype": "text/x-python",
   "name": "python",
   "nbconvert_exporter": "python",
   "pygments_lexer": "ipython3",
   "version": "3.10.7"
  }
 },
 "nbformat": 4,
 "nbformat_minor": 2
}
