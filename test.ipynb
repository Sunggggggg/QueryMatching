{
 "cells": [
  {
   "cell_type": "code",
   "execution_count": 7,
   "metadata": {},
   "outputs": [],
   "source": [
    "import torch\n",
    "\n",
    "kps_duplicate = torch.rand((2, 256, 7))\n",
    "box_duplicate = torch.rand((4, 256, 7))\n",
    "\n",
    "xmin = kps_duplicate[0].ge(box_duplicate[0])    # [hw, n]\n",
    "ymin = kps_duplicate[1].ge(box_duplicate[1])\n",
    "xmax = kps_duplicate[0].le(box_duplicate[2])\n",
    "ymax = kps_duplicate[1].le(box_duplicate[3])\n",
    "\n",
    "nbr_onehot = torch.mul(torch.mul(xmin, ymin), torch.mul(xmax, ymax)).t()   \n",
    "n_neighbours = nbr_onehot.sum(dim=1)                                       \n",
    "n_points = nbr_onehot.sum(dim=0)    "
   ]
  },
  {
   "cell_type": "code",
   "execution_count": 1,
   "metadata": {},
   "outputs": [],
   "source": [
    "import torch\n",
    "import torch.nn as nn\n",
    "import numpy as np\n",
    "\n",
    "feature_size = 16\n",
    "x_normal = np.linspace(-1,1,feature_size)\n",
    "x_normal = nn.Parameter(torch.tensor(x_normal, dtype=torch.float, requires_grad=False))\n",
    "y_normal = np.linspace(-1,1,feature_size)\n",
    "y_normal = nn.Parameter(torch.tensor(y_normal, dtype=torch.float, requires_grad=False))\n",
    "\n",
    "def softmax_with_temperature(x, beta, d = 1):\n",
    "        r'''SFNet: Learning Object-aware Semantic Flow (Lee et al.)'''\n",
    "        M, _ = x.max(dim=d, keepdim=True)\n",
    "        x = x - M # subtract maximum value for stability\n",
    "        exp_x = torch.exp(x/beta)\n",
    "        exp_x_sum = exp_x.sum(dim=d, keepdim=True)\n",
    "        return exp_x / exp_x_sum\n",
    "\n",
    "def soft_argmax(corr, beta=0.02):\n",
    "    r'''SFNet: Learning Object-aware Semantic Flow (Lee et al.)\n",
    "    corr : [B, l, hsws, htwt]\n",
    "    '''\n",
    "    b,_,h,w = corr.size()\n",
    "    \n",
    "    corr = softmax_with_temperature(corr, beta=beta, d=1)\n",
    "    corr = corr.view(-1,h,w,h,w) # (target hxw) x (source hxw)\n",
    "\n",
    "    grid_x = corr.sum(dim=1, keepdim=False) # marginalize to x-coord. [B, ws, ht, wt]\n",
    "    x_normal = x_normal.expand(b,w)\n",
    "    x_normal = x_normal.view(b,w,1,1)\n",
    "    grid_x = (grid_x*x_normal).sum(dim=1, keepdim=True) # b x 1 x h x w\n",
    "    \n",
    "    grid_y = corr.sum(dim=2, keepdim=False) # marginalize to y-coord.\n",
    "    y_normal = y_normal.expand(b,h)\n",
    "    y_normal = y_normal.view(b,h,1,1)\n",
    "    grid_y = (grid_y*y_normal).sum(dim=1, keepdim=True) # b x 1 x h x w"
   ]
  },
  {
   "cell_type": "code",
   "execution_count": 13,
   "metadata": {},
   "outputs": [
    {
     "ename": "UnboundLocalError",
     "evalue": "local variable 'x_normal' referenced before assignment",
     "output_type": "error",
     "traceback": [
      "\u001b[1;31m---------------------------------------------------------------------------\u001b[0m",
      "\u001b[1;31mUnboundLocalError\u001b[0m                         Traceback (most recent call last)",
      "Cell \u001b[1;32mIn[13], line 3\u001b[0m\n\u001b[0;32m      1\u001b[0m x \u001b[38;5;241m=\u001b[39m torch\u001b[38;5;241m.\u001b[39mrand((\u001b[38;5;241m4\u001b[39m, \u001b[38;5;241m256\u001b[39m, feature_size, feature_size))\n\u001b[1;32m----> 3\u001b[0m \u001b[43msoft_argmax\u001b[49m\u001b[43m(\u001b[49m\u001b[43mx\u001b[49m\u001b[43m)\u001b[49m\n",
      "Cell \u001b[1;32mIn[12], line 29\u001b[0m, in \u001b[0;36msoft_argmax\u001b[1;34m(corr, beta)\u001b[0m\n\u001b[0;32m     26\u001b[0m corr \u001b[38;5;241m=\u001b[39m corr\u001b[38;5;241m.\u001b[39mview(\u001b[38;5;241m-\u001b[39m\u001b[38;5;241m1\u001b[39m,h,w,h,w) \u001b[38;5;66;03m# (target hxw) x (source hxw)\u001b[39;00m\n\u001b[0;32m     28\u001b[0m grid_x \u001b[38;5;241m=\u001b[39m corr\u001b[38;5;241m.\u001b[39msum(dim\u001b[38;5;241m=\u001b[39m\u001b[38;5;241m1\u001b[39m, keepdim\u001b[38;5;241m=\u001b[39m\u001b[38;5;28;01mFalse\u001b[39;00m) \u001b[38;5;66;03m# marginalize to x-coord. [B, ws, ht, wt]\u001b[39;00m\n\u001b[1;32m---> 29\u001b[0m x_normal \u001b[38;5;241m=\u001b[39m \u001b[43mx_normal\u001b[49m\u001b[38;5;241m.\u001b[39mexpand(b,w)\n\u001b[0;32m     30\u001b[0m x_normal \u001b[38;5;241m=\u001b[39m x_normal\u001b[38;5;241m.\u001b[39mview(b,w,\u001b[38;5;241m1\u001b[39m,\u001b[38;5;241m1\u001b[39m)\n\u001b[0;32m     31\u001b[0m grid_x \u001b[38;5;241m=\u001b[39m (grid_x\u001b[38;5;241m*\u001b[39mx_normal)\u001b[38;5;241m.\u001b[39msum(dim\u001b[38;5;241m=\u001b[39m\u001b[38;5;241m1\u001b[39m, keepdim\u001b[38;5;241m=\u001b[39m\u001b[38;5;28;01mTrue\u001b[39;00m) \u001b[38;5;66;03m# b x 1 x h x w\u001b[39;00m\n",
      "\u001b[1;31mUnboundLocalError\u001b[0m: local variable 'x_normal' referenced before assignment"
     ]
    }
   ],
   "source": [
    "x = torch.rand((4, 256, feature_size, feature_size))\n",
    "\n",
    "soft_argmax(x)"
   ]
  }
 ],
 "metadata": {
  "kernelspec": {
   "display_name": "Python 3",
   "language": "python",
   "name": "python3"
  },
  "language_info": {
   "codemirror_mode": {
    "name": "ipython",
    "version": 3
   },
   "file_extension": ".py",
   "mimetype": "text/x-python",
   "name": "python",
   "nbconvert_exporter": "python",
   "pygments_lexer": "ipython3",
   "version": "3.10.11"
  }
 },
 "nbformat": 4,
 "nbformat_minor": 2
}
